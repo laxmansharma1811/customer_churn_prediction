{
  "nbformat": 4,
  "nbformat_minor": 0,
  "metadata": {
    "colab": {
      "provenance": []
    },
    "kernelspec": {
      "name": "python3",
      "display_name": "Python 3"
    },
    "language_info": {
      "name": "python"
    }
  },
  "cells": [
    {
      "cell_type": "code",
      "source": [
        "from google.colab import drive\n",
        "drive.mount('/content/drive')"
      ],
      "metadata": {
        "colab": {
          "base_uri": "https://localhost:8080/"
        },
        "id": "9osfBnQRKoQn",
        "outputId": "f02754c3-11c7-4835-98f4-d1158dc4a21d"
      },
      "execution_count": 9,
      "outputs": [
        {
          "output_type": "stream",
          "name": "stdout",
          "text": [
            "Mounted at /content/drive\n"
          ]
        }
      ]
    },
    {
      "cell_type": "code",
      "source": [
        "file_path = '/content/drive/My Drive/Datasets/retail_data.csv'"
      ],
      "metadata": {
        "id": "_RJ4QxXZKs9f"
      },
      "execution_count": 10,
      "outputs": []
    },
    {
      "cell_type": "code",
      "execution_count": 11,
      "metadata": {
        "id": "d8gelMaEJztL"
      },
      "outputs": [],
      "source": [
        "import pandas as pd\n",
        "import numpy as np\n",
        "import matplotlib.pyplot as plt\n",
        "from datetime import datetime\n",
        "from sklearn.preprocessing import MinMaxScaler\n",
        "from sklearn.model_selection import train_test_split\n",
        "from tensorflow.keras.models import Sequential\n",
        "from tensorflow.keras.layers import LSTM, Dense, Dropout\n",
        "from tensorflow.keras.callbacks import EarlyStopping"
      ]
    },
    {
      "cell_type": "code",
      "source": [
        "## 1. Data Loading and Preparation\n",
        "def load_and_prepare_data(filepath):\n",
        "    try:\n",
        "        df = pd.read_csv(filepath)\n",
        "\n",
        "        # Basic data validation\n",
        "        required_columns = ['Customer_ID', 'Date', 'Amount']\n",
        "        if not all(col in df.columns for col in required_columns):\n",
        "            raise ValueError(f\"Missing required columns. Needed: {required_columns}\")\n",
        "\n",
        "        # Convert and validate dates\n",
        "        df['Date'] = pd.to_datetime(df['Date'], errors='coerce')\n",
        "        if df['Date'].isnull().any():\n",
        "            print(\"Warning: Some dates couldn't be parsed. These rows will be dropped.\")\n",
        "            df = df.dropna(subset=['Date'])\n",
        "\n",
        "        # Sort by customer and date\n",
        "        df = df.sort_values(['Customer_ID', 'Date'])\n",
        "\n",
        "        return df\n",
        "\n",
        "    except Exception as e:\n",
        "        print(f\"Error loading data: {str(e)}\")\n",
        "        return None"
      ],
      "metadata": {
        "id": "fHUmWhPeJ2rz"
      },
      "execution_count": 12,
      "outputs": []
    },
    {
      "cell_type": "code",
      "source": [
        "## 2. Feature Engineering\n",
        "def create_features(df):\n",
        "    # Aggregate daily spending per customer\n",
        "    daily_spending = df.groupby(['Customer_ID', 'Date'])['Amount'].sum().reset_index()\n",
        "\n",
        "    # Time-based features\n",
        "    daily_spending['day_of_week'] = daily_spending['Date'].dt.dayofweek\n",
        "    daily_spending['day_of_month'] = daily_spending['Date'].dt.day\n",
        "    daily_spending['month'] = daily_spending['Date'].dt.month\n",
        "    daily_spending['is_weekend'] = daily_spending['day_of_week'].isin([5, 6]).astype(int)\n",
        "\n",
        "    # Lag features\n",
        "    daily_spending['prev_day_spending'] = daily_spending.groupby('Customer_ID')['Amount'].shift(1)\n",
        "    daily_spending['rolling_7day_mean'] = daily_spending.groupby('Customer_ID')['Amount'].transform(\n",
        "        lambda x: x.rolling(window=7, min_periods=1).mean())\n",
        "\n",
        "    # Drop NA values from lag features\n",
        "    daily_spending = daily_spending.dropna()\n",
        "\n",
        "    return daily_spending"
      ],
      "metadata": {
        "id": "UT0DicqfJ8NT"
      },
      "execution_count": 13,
      "outputs": []
    },
    {
      "cell_type": "code",
      "source": [
        "## 3. Sequence Creation with Auto-Adjustment\n",
        "def create_sequences_with_fallback(data, initial_sequence_length=7):\n",
        "    def create_sequences(data, sequence_length):\n",
        "        sequences = []\n",
        "        targets = []\n",
        "\n",
        "        for customer_id in data['Customer_ID'].unique():\n",
        "            customer_data = data[data['Customer_ID'] == customer_id].sort_values('Date')\n",
        "\n",
        "            if len(customer_data) <= sequence_length:\n",
        "                continue\n",
        "\n",
        "            values = customer_data[['Amount', 'day_of_week', 'day_of_month',\n",
        "                                  'month', 'is_weekend', 'prev_day_spending',\n",
        "                                  'rolling_7day_mean']].values\n",
        "\n",
        "            for i in range(len(values) - sequence_length):\n",
        "                sequences.append(values[i:i+sequence_length])\n",
        "                targets.append(values[i+sequence_length, 0])\n",
        "\n",
        "        return np.array(sequences), np.array(targets)\n",
        "\n",
        "\n",
        "         # Try decreasing sequence lengths until we get valid sequences\n",
        "    for seq_len in range(initial_sequence_length, 0, -1):\n",
        "        X, y = create_sequences(data, seq_len)\n",
        "        if len(X) > 0:\n",
        "            print(f\"Created {len(X)} sequences with length {seq_len}\")\n",
        "            return X, y, seq_len\n",
        "\n",
        "    raise ValueError(\"Could not create sequences with any length\")\n"
      ],
      "metadata": {
        "id": "nBch2SlbKBUR"
      },
      "execution_count": 14,
      "outputs": []
    },
    {
      "cell_type": "code",
      "source": [
        "## 4. Model Building\n",
        "def build_rnn_model(input_shape):\n",
        "    model = Sequential([\n",
        "        LSTM(64, input_shape=input_shape, return_sequences=True),\n",
        "        Dropout(0.2),\n",
        "        LSTM(32, return_sequences=False),\n",
        "        Dropout(0.2),\n",
        "        Dense(1)\n",
        "    ])\n",
        "\n",
        "    model.compile(optimizer='adam', loss='mse', metrics=['mae'])\n",
        "    return model"
      ],
      "metadata": {
        "id": "u49EBYDBKF_B"
      },
      "execution_count": 15,
      "outputs": []
    },
    {
      "cell_type": "code",
      "source": [
        "## 5. Main Execution Flow\n",
        "def main():\n",
        "    # 1. Load data\n",
        "\n",
        "    df = load_and_prepare_data(file_path)\n",
        "    if df is None:\n",
        "        return\n",
        "\n",
        "    # 2. Analyze transaction distribution\n",
        "    print(\"\\nTransaction count per customer:\")\n",
        "    print(df.groupby('Customer_ID').size().describe())\n",
        "\n",
        "    # 3. Feature engineering\n",
        "    daily_spending = create_features(df)\n",
        "\n",
        "    # 4. Normalize features\n",
        "    feature_columns = ['Amount', 'day_of_week', 'day_of_month',\n",
        "                      'month', 'is_weekend', 'prev_day_spending',\n",
        "                      'rolling_7day_mean']\n",
        "\n",
        "    scaler = MinMaxScaler()\n",
        "    daily_spending[feature_columns] = scaler.fit_transform(daily_spending[feature_columns])\n",
        "\n",
        "    # 5. Create sequences\n",
        "    try:\n",
        "        X, y, seq_length = create_sequences_with_fallback(daily_spending)\n",
        "    except ValueError as e:\n",
        "        print(f\"Error: {str(e)}\")\n",
        "        print(\"Consider aggregating data by week or using a non-time-series approach.\")\n",
        "        return\n",
        "\n",
        "    # 6. Train-test split\n",
        "    X_train, X_test, y_train, y_test = train_test_split(X, y, test_size=0.2, random_state=42)\n",
        "\n",
        "    # 7. Build and train model\n",
        "    model = build_rnn_model((X_train.shape[1], X_train.shape[2]))\n",
        "\n",
        "    early_stopping = EarlyStopping(monitor='val_loss', patience=5, restore_best_weights=True)\n",
        "\n",
        "    history = model.fit(\n",
        "        X_train, y_train,\n",
        "        epochs=50,\n",
        "        batch_size=32,\n",
        "        validation_split=0.1,\n",
        "        callbacks=[early_stopping],\n",
        "        verbose=1\n",
        "    )\n",
        "\n",
        "\n",
        "     # 9. Plot training history\n",
        "    plt.figure(figsize=(12, 6))\n",
        "    plt.plot(history.history['loss'], label='Training Loss')\n",
        "    plt.plot(history.history['val_loss'], label='Validation Loss')\n",
        "    plt.title('Model Training History')\n",
        "    plt.xlabel('Epoch')\n",
        "    plt.ylabel('Loss (MSE)')\n",
        "    plt.legend()\n",
        "    plt.show()\n",
        "\n",
        "    # 10. Sample predictions\n",
        "    sample_idx = np.random.randint(0, len(X_test), 5)\n",
        "    for idx in sample_idx:\n",
        "        actual = y_test[idx]\n",
        "        pred = model.predict(X_test[np.newaxis, idx])[0, 0]\n",
        "        print(f\"Actual: {actual:.2f}, Predicted: {pred:.2f}\")\n",
        "\n",
        "if __name__ == \"__main__\":\n",
        "    main()"
      ],
      "metadata": {
        "colab": {
          "base_uri": "https://localhost:8080/",
          "height": 1000
        },
        "id": "L9HkbsJAKIcq",
        "outputId": "b40a0d2f-8873-42e0-fa14-3eceae6c2bfc"
      },
      "execution_count": 17,
      "outputs": [
        {
          "output_type": "stream",
          "name": "stdout",
          "text": [
            "Warning: Some dates couldn't be parsed. These rows will be dropped.\n",
            "\n",
            "Transaction count per customer:\n",
            "count    77852.000000\n",
            "mean         2.346606\n",
            "std          1.287026\n",
            "min          1.000000\n",
            "25%          1.000000\n",
            "50%          2.000000\n",
            "75%          3.000000\n",
            "max         10.000000\n",
            "dtype: float64\n",
            "Created 29 sequences with length 7\n",
            "Epoch 1/50\n"
          ]
        },
        {
          "output_type": "stream",
          "name": "stderr",
          "text": [
            "/usr/local/lib/python3.11/dist-packages/keras/src/layers/rnn/rnn.py:200: UserWarning: Do not pass an `input_shape`/`input_dim` argument to a layer. When using Sequential models, prefer using an `Input(shape)` object as the first layer in the model instead.\n",
            "  super().__init__(**kwargs)\n"
          ]
        },
        {
          "output_type": "stream",
          "name": "stdout",
          "text": [
            "\u001b[1m1/1\u001b[0m \u001b[32m━━━━━━━━━━━━━━━━━━━━\u001b[0m\u001b[37m\u001b[0m \u001b[1m4s\u001b[0m 4s/step - loss: 0.0559 - mae: 0.2029 - val_loss: 0.0160 - val_mae: 0.1143\n",
            "Epoch 2/50\n",
            "\u001b[1m1/1\u001b[0m \u001b[32m━━━━━━━━━━━━━━━━━━━━\u001b[0m\u001b[37m\u001b[0m \u001b[1m1s\u001b[0m 712ms/step - loss: 0.0345 - mae: 0.1512 - val_loss: 0.0082 - val_mae: 0.0885\n",
            "Epoch 3/50\n",
            "\u001b[1m1/1\u001b[0m \u001b[32m━━━━━━━━━━━━━━━━━━━━\u001b[0m\u001b[37m\u001b[0m \u001b[1m0s\u001b[0m 134ms/step - loss: 0.0202 - mae: 0.1171 - val_loss: 0.0093 - val_mae: 0.0702\n",
            "Epoch 4/50\n",
            "\u001b[1m1/1\u001b[0m \u001b[32m━━━━━━━━━━━━━━━━━━━━\u001b[0m\u001b[37m\u001b[0m \u001b[1m0s\u001b[0m 100ms/step - loss: 0.0195 - mae: 0.1247 - val_loss: 0.0155 - val_mae: 0.0909\n",
            "Epoch 5/50\n",
            "\u001b[1m1/1\u001b[0m \u001b[32m━━━━━━━━━━━━━━━━━━━━\u001b[0m\u001b[37m\u001b[0m \u001b[1m0s\u001b[0m 128ms/step - loss: 0.0212 - mae: 0.1235 - val_loss: 0.0207 - val_mae: 0.1168\n",
            "Epoch 6/50\n",
            "\u001b[1m1/1\u001b[0m \u001b[32m━━━━━━━━━━━━━━━━━━━━\u001b[0m\u001b[37m\u001b[0m \u001b[1m0s\u001b[0m 88ms/step - loss: 0.0239 - mae: 0.1301 - val_loss: 0.0222 - val_mae: 0.1229\n",
            "Epoch 7/50\n",
            "\u001b[1m1/1\u001b[0m \u001b[32m━━━━━━━━━━━━━━━━━━━━\u001b[0m\u001b[37m\u001b[0m \u001b[1m0s\u001b[0m 90ms/step - loss: 0.0304 - mae: 0.1403 - val_loss: 0.0198 - val_mae: 0.1127\n"
          ]
        },
        {
          "output_type": "display_data",
          "data": {
            "text/plain": [
              "<Figure size 1200x600 with 1 Axes>"
            ],
            "image/png": "[encoded data removed]"
          },
          "metadata": {}
        },
        {
          "output_type": "stream",
          "name": "stdout",
          "text": [
            "\u001b[1m1/1\u001b[0m \u001b[32m━━━━━━━━━━━━━━━━━━━━\u001b[0m\u001b[37m\u001b[0m \u001b[1m0s\u001b[0m 305ms/step\n",
            "Actual: 0.19, Predicted: 0.16\n",
            "\u001b[1m1/1\u001b[0m \u001b[32m━━━━━━━━━━━━━━━━━━━━\u001b[0m\u001b[37m\u001b[0m \u001b[1m0s\u001b[0m 42ms/step\n",
            "Actual: 0.27, Predicted: 0.09\n",
            "\u001b[1m1/1\u001b[0m \u001b[32m━━━━━━━━━━━━━━━━━━━━\u001b[0m\u001b[37m\u001b[0m \u001b[1m0s\u001b[0m 37ms/step\n",
            "Actual: 0.27, Predicted: 0.09\n",
            "\u001b[1m1/1\u001b[0m \u001b[32m━━━━━━━━━━━━━━━━━━━━\u001b[0m\u001b[37m\u001b[0m \u001b[1m0s\u001b[0m 39ms/step\n",
            "Actual: 0.23, Predicted: 0.13\n",
            "\u001b[1m1/1\u001b[0m \u001b[32m━━━━━━━━━━━━━━━━━━━━\u001b[0m\u001b[37m\u001b[0m \u001b[1m0s\u001b[0m 34ms/step\n",
            "Actual: 0.23, Predicted: 0.13\n"
          ]
        }
      ]
    },
    {
      "cell_type": "code",
      "source": [],
      "metadata": {
        "id": "TspEtswTKkUM"
      },
      "execution_count": 16,
      "outputs": []
    }
  ]
}